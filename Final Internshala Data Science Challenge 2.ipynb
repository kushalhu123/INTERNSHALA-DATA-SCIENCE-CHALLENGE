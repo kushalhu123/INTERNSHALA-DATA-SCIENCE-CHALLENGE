{
 "cells": [
  {
   "cell_type": "markdown",
   "metadata": {},
   "source": [
    "# DATA SCIENCE CHALLENGE"
   ]
  },
  {
   "cell_type": "markdown",
   "metadata": {},
   "source": [
    "### PROBLEM DEFINITION"
   ]
  },
  {
   "cell_type": "markdown",
   "metadata": {},
   "source": [
    "To Build a model to predict whether the policyholder will pay next premium on time or not"
   ]
  },
  {
   "cell_type": "markdown",
   "metadata": {},
   "source": [
    "### List of Variables affecting the problem objective(target):"
   ]
  },
  {
   "cell_type": "markdown",
   "metadata": {},
   "source": [
    "1. ID\n",
    "2. Perc_premium_paid_by_cash_credit : Percentage of premium amount paid by cash or credit card\n",
    "3. Age_in_days : Age in days of policy holders\n",
    "4. Income : Monthly Income of policy holders\n",
    "5. Count_3-6_months_late : No of premiums late by 3 to 6 months\n",
    "6. Count_6-12_months_late : No of premiums late by 6 to 12 months\n",
    "7. Count_more_than_12_months_late : No of premiums late by more than 12 months\n",
    "8. Application_underwriting_score : Underwriting Score of the applicant at the time of application  \n",
    "9. No_of_premiums_paid : Total premiums paid on time till now\n",
    "10. Sourcing_channels : Sourcing channel for application\n",
    "11. Residence_area_types : Area type of Residence {Urban/Rural}\n",
    "12. Target : 1 - premium paid , 0 - premium not paid on time"
   ]
  },
  {
   "cell_type": "code",
   "execution_count": 1,
   "metadata": {},
   "outputs": [],
   "source": [
    "# IMPORTING THE LIBRARIES \n",
    "import pandas as pd\n",
    "import matplotlib.pyplot as plt\n",
    "import numpy as np"
   ]
  },
  {
   "cell_type": "code",
   "execution_count": 2,
   "metadata": {},
   "outputs": [
    {
     "data": {
      "text/html": [
       "<div>\n",
       "<style scoped>\n",
       "    .dataframe tbody tr th:only-of-type {\n",
       "        vertical-align: middle;\n",
       "    }\n",
       "\n",
       "    .dataframe tbody tr th {\n",
       "        vertical-align: top;\n",
       "    }\n",
       "\n",
       "    .dataframe thead th {\n",
       "        text-align: right;\n",
       "    }\n",
       "</style>\n",
       "<table border=\"1\" class=\"dataframe\">\n",
       "  <thead>\n",
       "    <tr style=\"text-align: right;\">\n",
       "      <th></th>\n",
       "      <th>id</th>\n",
       "      <th>perc_premium_paid_by_cash_credit</th>\n",
       "      <th>age_in_days</th>\n",
       "      <th>Income</th>\n",
       "      <th>Count_3-6_months_late</th>\n",
       "      <th>Count_6-12_months_late</th>\n",
       "      <th>Count_more_than_12_months_late</th>\n",
       "      <th>application_underwriting_score</th>\n",
       "      <th>no_of_premiums_paid</th>\n",
       "      <th>sourcing_channel</th>\n",
       "      <th>residence_area_type</th>\n",
       "      <th>target</th>\n",
       "    </tr>\n",
       "  </thead>\n",
       "  <tbody>\n",
       "    <tr>\n",
       "      <td>0</td>\n",
       "      <td>110936</td>\n",
       "      <td>0.429</td>\n",
       "      <td>12058</td>\n",
       "      <td>355060</td>\n",
       "      <td>0.0</td>\n",
       "      <td>0.0</td>\n",
       "      <td>0.0</td>\n",
       "      <td>99.02</td>\n",
       "      <td>13</td>\n",
       "      <td>C</td>\n",
       "      <td>Urban</td>\n",
       "      <td>1</td>\n",
       "    </tr>\n",
       "    <tr>\n",
       "      <td>1</td>\n",
       "      <td>41492</td>\n",
       "      <td>0.010</td>\n",
       "      <td>21546</td>\n",
       "      <td>315150</td>\n",
       "      <td>0.0</td>\n",
       "      <td>0.0</td>\n",
       "      <td>0.0</td>\n",
       "      <td>99.89</td>\n",
       "      <td>21</td>\n",
       "      <td>A</td>\n",
       "      <td>Urban</td>\n",
       "      <td>1</td>\n",
       "    </tr>\n",
       "    <tr>\n",
       "      <td>2</td>\n",
       "      <td>31300</td>\n",
       "      <td>0.917</td>\n",
       "      <td>17531</td>\n",
       "      <td>84140</td>\n",
       "      <td>2.0</td>\n",
       "      <td>3.0</td>\n",
       "      <td>1.0</td>\n",
       "      <td>98.69</td>\n",
       "      <td>7</td>\n",
       "      <td>C</td>\n",
       "      <td>Rural</td>\n",
       "      <td>0</td>\n",
       "    </tr>\n",
       "    <tr>\n",
       "      <td>3</td>\n",
       "      <td>19415</td>\n",
       "      <td>0.049</td>\n",
       "      <td>15341</td>\n",
       "      <td>250510</td>\n",
       "      <td>0.0</td>\n",
       "      <td>0.0</td>\n",
       "      <td>0.0</td>\n",
       "      <td>99.57</td>\n",
       "      <td>9</td>\n",
       "      <td>A</td>\n",
       "      <td>Urban</td>\n",
       "      <td>1</td>\n",
       "    </tr>\n",
       "    <tr>\n",
       "      <td>4</td>\n",
       "      <td>99379</td>\n",
       "      <td>0.052</td>\n",
       "      <td>31400</td>\n",
       "      <td>198680</td>\n",
       "      <td>0.0</td>\n",
       "      <td>0.0</td>\n",
       "      <td>0.0</td>\n",
       "      <td>99.87</td>\n",
       "      <td>12</td>\n",
       "      <td>B</td>\n",
       "      <td>Urban</td>\n",
       "      <td>1</td>\n",
       "    </tr>\n",
       "  </tbody>\n",
       "</table>\n",
       "</div>"
      ],
      "text/plain": [
       "       id  perc_premium_paid_by_cash_credit  age_in_days  Income  \\\n",
       "0  110936                             0.429        12058  355060   \n",
       "1   41492                             0.010        21546  315150   \n",
       "2   31300                             0.917        17531   84140   \n",
       "3   19415                             0.049        15341  250510   \n",
       "4   99379                             0.052        31400  198680   \n",
       "\n",
       "   Count_3-6_months_late  Count_6-12_months_late  \\\n",
       "0                    0.0                     0.0   \n",
       "1                    0.0                     0.0   \n",
       "2                    2.0                     3.0   \n",
       "3                    0.0                     0.0   \n",
       "4                    0.0                     0.0   \n",
       "\n",
       "   Count_more_than_12_months_late  application_underwriting_score  \\\n",
       "0                             0.0                           99.02   \n",
       "1                             0.0                           99.89   \n",
       "2                             1.0                           98.69   \n",
       "3                             0.0                           99.57   \n",
       "4                             0.0                           99.87   \n",
       "\n",
       "   no_of_premiums_paid sourcing_channel residence_area_type  target  \n",
       "0                   13                C               Urban       1  \n",
       "1                   21                A               Urban       1  \n",
       "2                    7                C               Rural       0  \n",
       "3                    9                A               Urban       1  \n",
       "4                   12                B               Urban       1  "
      ]
     },
     "execution_count": 2,
     "metadata": {},
     "output_type": "execute_result"
    }
   ],
   "source": [
    "# LOADING THE DATASET USING PANDAS LIBRARY\n",
    "df=pd.read_csv('train.csv')\n",
    "# LOOKING THROUGH THR FIRST FIVE DATA WHICH IS PRESENT IN THE DATASET\n",
    "df.head()"
   ]
  },
  {
   "cell_type": "markdown",
   "metadata": {},
   "source": [
    "# CHECKING FOR THE MISSING VALUES"
   ]
  },
  {
   "cell_type": "code",
   "execution_count": 3,
   "metadata": {},
   "outputs": [
    {
     "data": {
      "text/plain": [
       "id                                     0\n",
       "perc_premium_paid_by_cash_credit       0\n",
       "age_in_days                            0\n",
       "Income                                 0\n",
       "Count_3-6_months_late                 97\n",
       "Count_6-12_months_late                97\n",
       "Count_more_than_12_months_late        97\n",
       "application_underwriting_score      2974\n",
       "no_of_premiums_paid                    0\n",
       "sourcing_channel                       0\n",
       "residence_area_type                    0\n",
       "target                                 0\n",
       "dtype: int64"
      ]
     },
     "execution_count": 3,
     "metadata": {},
     "output_type": "execute_result"
    }
   ],
   "source": [
    "df.isnull().sum()\n",
    "# WE HAVE TO REMOVE THE MISSING VALUES\n",
    "# YES,THERE ARE MISSING VALUES"
   ]
  },
  {
   "cell_type": "code",
   "execution_count": 4,
   "metadata": {},
   "outputs": [
    {
     "data": {
      "text/plain": [
       "id                                    int64\n",
       "perc_premium_paid_by_cash_credit    float64\n",
       "age_in_days                           int64\n",
       "Income                                int64\n",
       "Count_3-6_months_late               float64\n",
       "Count_6-12_months_late              float64\n",
       "Count_more_than_12_months_late      float64\n",
       "application_underwriting_score      float64\n",
       "no_of_premiums_paid                   int64\n",
       "sourcing_channel                     object\n",
       "residence_area_type                  object\n",
       "target                                int64\n",
       "dtype: object"
      ]
     },
     "execution_count": 4,
     "metadata": {},
     "output_type": "execute_result"
    }
   ],
   "source": [
    "#IDENTIFICATIONS OF THE VARIABLES.\n",
    "df.dtypes\n",
    "#WE HAVE SOURCING AND RESIDENCE AS OBJECT"
   ]
  },
  {
   "cell_type": "markdown",
   "metadata": {},
   "source": [
    "## VARIABLE ANALYSIS"
   ]
  },
  {
   "cell_type": "code",
   "execution_count": 5,
   "metadata": {},
   "outputs": [
    {
     "data": {
      "text/html": [
       "<div>\n",
       "<style scoped>\n",
       "    .dataframe tbody tr th:only-of-type {\n",
       "        vertical-align: middle;\n",
       "    }\n",
       "\n",
       "    .dataframe tbody tr th {\n",
       "        vertical-align: top;\n",
       "    }\n",
       "\n",
       "    .dataframe thead th {\n",
       "        text-align: right;\n",
       "    }\n",
       "</style>\n",
       "<table border=\"1\" class=\"dataframe\">\n",
       "  <thead>\n",
       "    <tr style=\"text-align: right;\">\n",
       "      <th></th>\n",
       "      <th>id</th>\n",
       "      <th>perc_premium_paid_by_cash_credit</th>\n",
       "      <th>age_in_days</th>\n",
       "      <th>Income</th>\n",
       "      <th>Count_3-6_months_late</th>\n",
       "      <th>Count_6-12_months_late</th>\n",
       "      <th>Count_more_than_12_months_late</th>\n",
       "      <th>application_underwriting_score</th>\n",
       "      <th>no_of_premiums_paid</th>\n",
       "      <th>target</th>\n",
       "    </tr>\n",
       "  </thead>\n",
       "  <tbody>\n",
       "    <tr>\n",
       "      <td>count</td>\n",
       "      <td>79853.000000</td>\n",
       "      <td>79853.000000</td>\n",
       "      <td>79853.000000</td>\n",
       "      <td>7.985300e+04</td>\n",
       "      <td>79756.000000</td>\n",
       "      <td>79756.000000</td>\n",
       "      <td>79756.000000</td>\n",
       "      <td>76879.000000</td>\n",
       "      <td>79853.000000</td>\n",
       "      <td>79853.000000</td>\n",
       "    </tr>\n",
       "    <tr>\n",
       "      <td>mean</td>\n",
       "      <td>57167.166368</td>\n",
       "      <td>0.314288</td>\n",
       "      <td>18846.696906</td>\n",
       "      <td>2.088472e+05</td>\n",
       "      <td>0.248671</td>\n",
       "      <td>0.078188</td>\n",
       "      <td>0.060008</td>\n",
       "      <td>99.067291</td>\n",
       "      <td>10.863887</td>\n",
       "      <td>0.937410</td>\n",
       "    </tr>\n",
       "    <tr>\n",
       "      <td>std</td>\n",
       "      <td>32928.970160</td>\n",
       "      <td>0.334915</td>\n",
       "      <td>5208.719136</td>\n",
       "      <td>4.965826e+05</td>\n",
       "      <td>0.691468</td>\n",
       "      <td>0.436507</td>\n",
       "      <td>0.312023</td>\n",
       "      <td>0.739799</td>\n",
       "      <td>5.170687</td>\n",
       "      <td>0.242226</td>\n",
       "    </tr>\n",
       "    <tr>\n",
       "      <td>min</td>\n",
       "      <td>2.000000</td>\n",
       "      <td>0.000000</td>\n",
       "      <td>7670.000000</td>\n",
       "      <td>2.403000e+04</td>\n",
       "      <td>0.000000</td>\n",
       "      <td>0.000000</td>\n",
       "      <td>0.000000</td>\n",
       "      <td>91.900000</td>\n",
       "      <td>2.000000</td>\n",
       "      <td>0.000000</td>\n",
       "    </tr>\n",
       "    <tr>\n",
       "      <td>25%</td>\n",
       "      <td>28640.000000</td>\n",
       "      <td>0.034000</td>\n",
       "      <td>14974.000000</td>\n",
       "      <td>1.080100e+05</td>\n",
       "      <td>0.000000</td>\n",
       "      <td>0.000000</td>\n",
       "      <td>0.000000</td>\n",
       "      <td>98.810000</td>\n",
       "      <td>7.000000</td>\n",
       "      <td>1.000000</td>\n",
       "    </tr>\n",
       "    <tr>\n",
       "      <td>50%</td>\n",
       "      <td>57262.000000</td>\n",
       "      <td>0.167000</td>\n",
       "      <td>18625.000000</td>\n",
       "      <td>1.665600e+05</td>\n",
       "      <td>0.000000</td>\n",
       "      <td>0.000000</td>\n",
       "      <td>0.000000</td>\n",
       "      <td>99.210000</td>\n",
       "      <td>10.000000</td>\n",
       "      <td>1.000000</td>\n",
       "    </tr>\n",
       "    <tr>\n",
       "      <td>75%</td>\n",
       "      <td>85632.000000</td>\n",
       "      <td>0.538000</td>\n",
       "      <td>22636.000000</td>\n",
       "      <td>2.520900e+05</td>\n",
       "      <td>0.000000</td>\n",
       "      <td>0.000000</td>\n",
       "      <td>0.000000</td>\n",
       "      <td>99.540000</td>\n",
       "      <td>14.000000</td>\n",
       "      <td>1.000000</td>\n",
       "    </tr>\n",
       "    <tr>\n",
       "      <td>max</td>\n",
       "      <td>114076.000000</td>\n",
       "      <td>1.000000</td>\n",
       "      <td>37602.000000</td>\n",
       "      <td>9.026260e+07</td>\n",
       "      <td>13.000000</td>\n",
       "      <td>17.000000</td>\n",
       "      <td>11.000000</td>\n",
       "      <td>99.890000</td>\n",
       "      <td>60.000000</td>\n",
       "      <td>1.000000</td>\n",
       "    </tr>\n",
       "  </tbody>\n",
       "</table>\n",
       "</div>"
      ],
      "text/plain": [
       "                  id  perc_premium_paid_by_cash_credit   age_in_days  \\\n",
       "count   79853.000000                      79853.000000  79853.000000   \n",
       "mean    57167.166368                          0.314288  18846.696906   \n",
       "std     32928.970160                          0.334915   5208.719136   \n",
       "min         2.000000                          0.000000   7670.000000   \n",
       "25%     28640.000000                          0.034000  14974.000000   \n",
       "50%     57262.000000                          0.167000  18625.000000   \n",
       "75%     85632.000000                          0.538000  22636.000000   \n",
       "max    114076.000000                          1.000000  37602.000000   \n",
       "\n",
       "             Income  Count_3-6_months_late  Count_6-12_months_late  \\\n",
       "count  7.985300e+04           79756.000000            79756.000000   \n",
       "mean   2.088472e+05               0.248671                0.078188   \n",
       "std    4.965826e+05               0.691468                0.436507   \n",
       "min    2.403000e+04               0.000000                0.000000   \n",
       "25%    1.080100e+05               0.000000                0.000000   \n",
       "50%    1.665600e+05               0.000000                0.000000   \n",
       "75%    2.520900e+05               0.000000                0.000000   \n",
       "max    9.026260e+07              13.000000               17.000000   \n",
       "\n",
       "       Count_more_than_12_months_late  application_underwriting_score  \\\n",
       "count                    79756.000000                    76879.000000   \n",
       "mean                         0.060008                       99.067291   \n",
       "std                          0.312023                        0.739799   \n",
       "min                          0.000000                       91.900000   \n",
       "25%                          0.000000                       98.810000   \n",
       "50%                          0.000000                       99.210000   \n",
       "75%                          0.000000                       99.540000   \n",
       "max                         11.000000                       99.890000   \n",
       "\n",
       "       no_of_premiums_paid        target  \n",
       "count         79853.000000  79853.000000  \n",
       "mean             10.863887      0.937410  \n",
       "std               5.170687      0.242226  \n",
       "min               2.000000      0.000000  \n",
       "25%               7.000000      1.000000  \n",
       "50%              10.000000      1.000000  \n",
       "75%              14.000000      1.000000  \n",
       "max              60.000000      1.000000  "
      ]
     },
     "execution_count": 5,
     "metadata": {},
     "output_type": "execute_result"
    }
   ],
   "source": [
    "# DESCRIBING THE DATASET IN TERMS OF MEAN,MEDIAN ,MODE WHICH GIVES COMPLERE DESCRIPTION\n",
    "df.describe()"
   ]
  },
  {
   "cell_type": "code",
   "execution_count": 6,
   "metadata": {},
   "outputs": [
    {
     "data": {
      "image/png": "[encoded data removed]",
      "text/plain": [
       "<Figure size 432x288 with 1 Axes>"
      ]
     },
     "metadata": {
      "needs_background": "light"
     },
     "output_type": "display_data"
    }
   ],
   "source": [
    "#ANALYSIS INCOME,AGE_IN_DAYS,PERC_PREMIUM_PAID_BY_CASH_CREDIT\n",
    "df['perc_premium_paid_by_cash_credit'].plot.hist()\n",
    "plt.show()"
   ]
  },
  {
   "cell_type": "code",
   "execution_count": 7,
   "metadata": {},
   "outputs": [
    {
     "data": {
      "image/png": "[encoded data removed]",
      "text/plain": [
       "<Figure size 432x288 with 1 Axes>"
      ]
     },
     "metadata": {
      "needs_background": "light"
     },
     "output_type": "display_data"
    }
   ],
   "source": [
    "# Plotting a boxplot fro the descriptive analysis\n",
    "\n",
    "df['perc_premium_paid_by_cash_credit'].plot.box()\n",
    "plt.show()\n",
    "\n",
    "#  No outliers found"
   ]
  },
  {
   "cell_type": "code",
   "execution_count": 8,
   "metadata": {},
   "outputs": [
    {
     "data": {
      "image/png": "[encoded data removed]",
      "text/plain": [
       "<Figure size 432x288 with 1 Axes>"
      ]
     },
     "metadata": {
      "needs_background": "light"
     },
     "output_type": "display_data"
    }
   ],
   "source": [
    "df['age_in_days'].plot.hist()\n",
    "plt.show()\n",
    "# IT IS RIGHT  SKEWED , IN ORDER TO MAKE IT AS NORMAL DISTRIBUTION WE HAVE TO TAKE THE POWER OF 1/4th"
   ]
  },
  {
   "cell_type": "code",
   "execution_count": 9,
   "metadata": {},
   "outputs": [
    {
     "data": {
      "image/png": "[encoded data removed]",
      "text/plain": [
       "<Figure size 432x288 with 1 Axes>"
      ]
     },
     "metadata": {
      "needs_background": "light"
     },
     "output_type": "display_data"
    }
   ],
   "source": [
    "# Plotting a boxplot fro the descriptive analysis\n",
    "\n",
    "df['age_in_days'].plot.box()\n",
    "plt.show()\n",
    "\n",
    "# OUTLIERS ARE FOUND"
   ]
  },
  {
   "cell_type": "code",
   "execution_count": 10,
   "metadata": {},
   "outputs": [
    {
     "data": {
      "image/png": "[encoded data removed]",
      "text/plain": [
       "<Figure size 432x288 with 1 Axes>"
      ]
     },
     "metadata": {
      "needs_background": "light"
     },
     "output_type": "display_data"
    }
   ],
   "source": [
    "df['Income'].plot.box()\n",
    "plt.show()\n",
    "\n",
    "# OUTLIERS ARE FOUND IN INCOME"
   ]
  },
  {
   "cell_type": "markdown",
   "metadata": {},
   "source": [
    "# UNIVARIATE ANALYSIS OF CATEGORICAL VARIABLES"
   ]
  },
  {
   "cell_type": "code",
   "execution_count": 11,
   "metadata": {},
   "outputs": [
    {
     "data": {
      "text/html": [
       "<div>\n",
       "<style scoped>\n",
       "    .dataframe tbody tr th:only-of-type {\n",
       "        vertical-align: middle;\n",
       "    }\n",
       "\n",
       "    .dataframe tbody tr th {\n",
       "        vertical-align: top;\n",
       "    }\n",
       "\n",
       "    .dataframe thead th {\n",
       "        text-align: right;\n",
       "    }\n",
       "</style>\n",
       "<table border=\"1\" class=\"dataframe\">\n",
       "  <thead>\n",
       "    <tr style=\"text-align: right;\">\n",
       "      <th></th>\n",
       "      <th>id</th>\n",
       "      <th>perc_premium_paid_by_cash_credit</th>\n",
       "      <th>age_in_days</th>\n",
       "      <th>Income</th>\n",
       "      <th>Count_3-6_months_late</th>\n",
       "      <th>Count_6-12_months_late</th>\n",
       "      <th>Count_more_than_12_months_late</th>\n",
       "      <th>application_underwriting_score</th>\n",
       "      <th>no_of_premiums_paid</th>\n",
       "      <th>sourcing_channel</th>\n",
       "      <th>residence_area_type</th>\n",
       "      <th>target</th>\n",
       "    </tr>\n",
       "  </thead>\n",
       "  <tbody>\n",
       "    <tr>\n",
       "      <td>0</td>\n",
       "      <td>110936</td>\n",
       "      <td>0.429</td>\n",
       "      <td>12058</td>\n",
       "      <td>355060</td>\n",
       "      <td>0.0</td>\n",
       "      <td>0.0</td>\n",
       "      <td>0.0</td>\n",
       "      <td>99.02</td>\n",
       "      <td>13</td>\n",
       "      <td>C</td>\n",
       "      <td>Urban</td>\n",
       "      <td>1</td>\n",
       "    </tr>\n",
       "    <tr>\n",
       "      <td>1</td>\n",
       "      <td>41492</td>\n",
       "      <td>0.010</td>\n",
       "      <td>21546</td>\n",
       "      <td>315150</td>\n",
       "      <td>0.0</td>\n",
       "      <td>0.0</td>\n",
       "      <td>0.0</td>\n",
       "      <td>99.89</td>\n",
       "      <td>21</td>\n",
       "      <td>A</td>\n",
       "      <td>Urban</td>\n",
       "      <td>1</td>\n",
       "    </tr>\n",
       "    <tr>\n",
       "      <td>2</td>\n",
       "      <td>31300</td>\n",
       "      <td>0.917</td>\n",
       "      <td>17531</td>\n",
       "      <td>84140</td>\n",
       "      <td>2.0</td>\n",
       "      <td>3.0</td>\n",
       "      <td>1.0</td>\n",
       "      <td>98.69</td>\n",
       "      <td>7</td>\n",
       "      <td>C</td>\n",
       "      <td>Rural</td>\n",
       "      <td>0</td>\n",
       "    </tr>\n",
       "    <tr>\n",
       "      <td>3</td>\n",
       "      <td>19415</td>\n",
       "      <td>0.049</td>\n",
       "      <td>15341</td>\n",
       "      <td>250510</td>\n",
       "      <td>0.0</td>\n",
       "      <td>0.0</td>\n",
       "      <td>0.0</td>\n",
       "      <td>99.57</td>\n",
       "      <td>9</td>\n",
       "      <td>A</td>\n",
       "      <td>Urban</td>\n",
       "      <td>1</td>\n",
       "    </tr>\n",
       "    <tr>\n",
       "      <td>4</td>\n",
       "      <td>99379</td>\n",
       "      <td>0.052</td>\n",
       "      <td>31400</td>\n",
       "      <td>198680</td>\n",
       "      <td>0.0</td>\n",
       "      <td>0.0</td>\n",
       "      <td>0.0</td>\n",
       "      <td>99.87</td>\n",
       "      <td>12</td>\n",
       "      <td>B</td>\n",
       "      <td>Urban</td>\n",
       "      <td>1</td>\n",
       "    </tr>\n",
       "  </tbody>\n",
       "</table>\n",
       "</div>"
      ],
      "text/plain": [
       "       id  perc_premium_paid_by_cash_credit  age_in_days  Income  \\\n",
       "0  110936                             0.429        12058  355060   \n",
       "1   41492                             0.010        21546  315150   \n",
       "2   31300                             0.917        17531   84140   \n",
       "3   19415                             0.049        15341  250510   \n",
       "4   99379                             0.052        31400  198680   \n",
       "\n",
       "   Count_3-6_months_late  Count_6-12_months_late  \\\n",
       "0                    0.0                     0.0   \n",
       "1                    0.0                     0.0   \n",
       "2                    2.0                     3.0   \n",
       "3                    0.0                     0.0   \n",
       "4                    0.0                     0.0   \n",
       "\n",
       "   Count_more_than_12_months_late  application_underwriting_score  \\\n",
       "0                             0.0                           99.02   \n",
       "1                             0.0                           99.89   \n",
       "2                             1.0                           98.69   \n",
       "3                             0.0                           99.57   \n",
       "4                             0.0                           99.87   \n",
       "\n",
       "   no_of_premiums_paid sourcing_channel residence_area_type  target  \n",
       "0                   13                C               Urban       1  \n",
       "1                   21                A               Urban       1  \n",
       "2                    7                C               Rural       0  \n",
       "3                    9                A               Urban       1  \n",
       "4                   12                B               Urban       1  "
      ]
     },
     "execution_count": 11,
     "metadata": {},
     "output_type": "execute_result"
    }
   ],
   "source": [
    "df.head()"
   ]
  },
  {
   "cell_type": "code",
   "execution_count": 12,
   "metadata": {},
   "outputs": [
    {
     "data": {
      "text/plain": [
       "A    54.016756\n",
       "B    20.677996\n",
       "C    15.076453\n",
       "D     9.466144\n",
       "E     0.762651\n",
       "Name: sourcing_channel, dtype: float64"
      ]
     },
     "execution_count": 12,
     "metadata": {},
     "output_type": "execute_result"
    }
   ],
   "source": [
    "#  ANALYSING SOURCE CHANNEL\n",
    "\n",
    "df['sourcing_channel'].value_counts()/len(df) *100\n",
    "# E HAS THE LEAST AND A HAS THE MOST"
   ]
  },
  {
   "cell_type": "code",
   "execution_count": 13,
   "metadata": {},
   "outputs": [
    {
     "data": {
      "text/plain": [
       "Urban    60.339624\n",
       "Rural    39.660376\n",
       "Name: residence_area_type, dtype: float64"
      ]
     },
     "execution_count": 13,
     "metadata": {},
     "output_type": "execute_result"
    }
   ],
   "source": [
    "# ANALYSING RESIDENCE TYPES WHICH IS PRESENT IN DATASET residence type\n",
    "\n",
    "df['residence_area_type'].value_counts()/len(df['residence_area_type']) *100\n",
    "\n",
    "\n",
    "# RURAL HAS AROUND 39% AND URBAN HAS AROUND 60%[URBAN IS HIGHEST]\n",
    "\n"
   ]
  },
  {
   "cell_type": "code",
   "execution_count": 14,
   "metadata": {},
   "outputs": [
    {
     "data": {
      "text/plain": [
       "1    93.740999\n",
       "0     6.259001\n",
       "Name: target, dtype: float64"
      ]
     },
     "execution_count": 14,
     "metadata": {},
     "output_type": "execute_result"
    }
   ],
   "source": [
    "# ANALYSING THE TARGET VARIABLE \n",
    "df['target'].value_counts()/len(df['target']) *100\n",
    "\n",
    "# 93% ARE AROUND TO PAY THE PREMIUM ,WHILE THE REST OR NOT"
   ]
  },
  {
   "cell_type": "code",
   "execution_count": 15,
   "metadata": {},
   "outputs": [
    {
     "data": {
      "image/png": "[encoded data removed]",
      "text/plain": [
       "<Figure size 432x288 with 1 Axes>"
      ]
     },
     "metadata": {
      "needs_background": "light"
     },
     "output_type": "display_data"
    }
   ],
   "source": [
    "(df['target'].value_counts()/len(df['target'])*100).plot.bar(color='red')\n",
    "plt.show()"
   ]
  },
  {
   "cell_type": "code",
   "execution_count": 16,
   "metadata": {},
   "outputs": [
    {
     "data": {
      "image/png": "[encoded data removed]",
      "text/plain": [
       "<Figure size 432x288 with 1 Axes>"
      ]
     },
     "metadata": {
      "needs_background": "light"
     },
     "output_type": "display_data"
    }
   ],
   "source": [
    "\n",
    "(df['residence_area_type'].value_counts()/len(df['residence_area_type']) *100).plot.bar(color='blue')\n",
    "plt.show()"
   ]
  },
  {
   "cell_type": "markdown",
   "metadata": {},
   "source": [
    "# BI-VARIATE ANALYSIS FOR CONTINUOUS AND CONTINUOUS VARIABLE"
   ]
  },
  {
   "cell_type": "code",
   "execution_count": 17,
   "metadata": {},
   "outputs": [
    {
     "data": {
      "text/html": [
       "<div>\n",
       "<style scoped>\n",
       "    .dataframe tbody tr th:only-of-type {\n",
       "        vertical-align: middle;\n",
       "    }\n",
       "\n",
       "    .dataframe tbody tr th {\n",
       "        vertical-align: top;\n",
       "    }\n",
       "\n",
       "    .dataframe thead th {\n",
       "        text-align: right;\n",
       "    }\n",
       "</style>\n",
       "<table border=\"1\" class=\"dataframe\">\n",
       "  <thead>\n",
       "    <tr style=\"text-align: right;\">\n",
       "      <th></th>\n",
       "      <th>id</th>\n",
       "      <th>perc_premium_paid_by_cash_credit</th>\n",
       "      <th>age_in_days</th>\n",
       "      <th>Income</th>\n",
       "      <th>Count_3-6_months_late</th>\n",
       "      <th>Count_6-12_months_late</th>\n",
       "      <th>Count_more_than_12_months_late</th>\n",
       "      <th>application_underwriting_score</th>\n",
       "      <th>no_of_premiums_paid</th>\n",
       "      <th>target</th>\n",
       "    </tr>\n",
       "  </thead>\n",
       "  <tbody>\n",
       "    <tr>\n",
       "      <td>id</td>\n",
       "      <td>1.000000</td>\n",
       "      <td>-0.004833</td>\n",
       "      <td>0.005184</td>\n",
       "      <td>-0.001798</td>\n",
       "      <td>-0.005660</td>\n",
       "      <td>-0.002125</td>\n",
       "      <td>0.003424</td>\n",
       "      <td>-0.002124</td>\n",
       "      <td>-0.003328</td>\n",
       "      <td>-0.005064</td>\n",
       "    </tr>\n",
       "    <tr>\n",
       "      <td>perc_premium_paid_by_cash_credit</td>\n",
       "      <td>-0.004833</td>\n",
       "      <td>1.000000</td>\n",
       "      <td>-0.259131</td>\n",
       "      <td>-0.031868</td>\n",
       "      <td>0.214470</td>\n",
       "      <td>0.214951</td>\n",
       "      <td>0.168125</td>\n",
       "      <td>-0.142670</td>\n",
       "      <td>-0.152837</td>\n",
       "      <td>-0.240980</td>\n",
       "    </tr>\n",
       "    <tr>\n",
       "      <td>age_in_days</td>\n",
       "      <td>0.005184</td>\n",
       "      <td>-0.259131</td>\n",
       "      <td>1.000000</td>\n",
       "      <td>0.029308</td>\n",
       "      <td>-0.058366</td>\n",
       "      <td>-0.072731</td>\n",
       "      <td>-0.059407</td>\n",
       "      <td>0.049888</td>\n",
       "      <td>0.176544</td>\n",
       "      <td>0.095103</td>\n",
       "    </tr>\n",
       "    <tr>\n",
       "      <td>Income</td>\n",
       "      <td>-0.001798</td>\n",
       "      <td>-0.031868</td>\n",
       "      <td>0.029308</td>\n",
       "      <td>1.000000</td>\n",
       "      <td>-0.001403</td>\n",
       "      <td>-0.017347</td>\n",
       "      <td>-0.012399</td>\n",
       "      <td>0.085746</td>\n",
       "      <td>0.079078</td>\n",
       "      <td>0.016541</td>\n",
       "    </tr>\n",
       "    <tr>\n",
       "      <td>Count_3-6_months_late</td>\n",
       "      <td>-0.005660</td>\n",
       "      <td>0.214470</td>\n",
       "      <td>-0.058366</td>\n",
       "      <td>-0.001403</td>\n",
       "      <td>1.000000</td>\n",
       "      <td>0.204228</td>\n",
       "      <td>0.296085</td>\n",
       "      <td>-0.082781</td>\n",
       "      <td>0.075828</td>\n",
       "      <td>-0.248900</td>\n",
       "    </tr>\n",
       "    <tr>\n",
       "      <td>Count_6-12_months_late</td>\n",
       "      <td>-0.002125</td>\n",
       "      <td>0.214951</td>\n",
       "      <td>-0.072731</td>\n",
       "      <td>-0.017347</td>\n",
       "      <td>0.204228</td>\n",
       "      <td>1.000000</td>\n",
       "      <td>0.266306</td>\n",
       "      <td>0.004785</td>\n",
       "      <td>-0.093133</td>\n",
       "      <td>-0.286159</td>\n",
       "    </tr>\n",
       "    <tr>\n",
       "      <td>Count_more_than_12_months_late</td>\n",
       "      <td>0.003424</td>\n",
       "      <td>0.168125</td>\n",
       "      <td>-0.059407</td>\n",
       "      <td>-0.012399</td>\n",
       "      <td>0.296085</td>\n",
       "      <td>0.266306</td>\n",
       "      <td>1.000000</td>\n",
       "      <td>-0.031726</td>\n",
       "      <td>-0.021848</td>\n",
       "      <td>-0.240385</td>\n",
       "    </tr>\n",
       "    <tr>\n",
       "      <td>application_underwriting_score</td>\n",
       "      <td>-0.002124</td>\n",
       "      <td>-0.142670</td>\n",
       "      <td>0.049888</td>\n",
       "      <td>0.085746</td>\n",
       "      <td>-0.082781</td>\n",
       "      <td>0.004785</td>\n",
       "      <td>-0.031726</td>\n",
       "      <td>1.000000</td>\n",
       "      <td>-0.270864</td>\n",
       "      <td>0.068715</td>\n",
       "    </tr>\n",
       "    <tr>\n",
       "      <td>no_of_premiums_paid</td>\n",
       "      <td>-0.003328</td>\n",
       "      <td>-0.152837</td>\n",
       "      <td>0.176544</td>\n",
       "      <td>0.079078</td>\n",
       "      <td>0.075828</td>\n",
       "      <td>-0.093133</td>\n",
       "      <td>-0.021848</td>\n",
       "      <td>-0.270864</td>\n",
       "      <td>1.000000</td>\n",
       "      <td>0.022664</td>\n",
       "    </tr>\n",
       "    <tr>\n",
       "      <td>target</td>\n",
       "      <td>-0.005064</td>\n",
       "      <td>-0.240980</td>\n",
       "      <td>0.095103</td>\n",
       "      <td>0.016541</td>\n",
       "      <td>-0.248900</td>\n",
       "      <td>-0.286159</td>\n",
       "      <td>-0.240385</td>\n",
       "      <td>0.068715</td>\n",
       "      <td>0.022664</td>\n",
       "      <td>1.000000</td>\n",
       "    </tr>\n",
       "  </tbody>\n",
       "</table>\n",
       "</div>"
      ],
      "text/plain": [
       "                                        id  perc_premium_paid_by_cash_credit  \\\n",
       "id                                1.000000                         -0.004833   \n",
       "perc_premium_paid_by_cash_credit -0.004833                          1.000000   \n",
       "age_in_days                       0.005184                         -0.259131   \n",
       "Income                           -0.001798                         -0.031868   \n",
       "Count_3-6_months_late            -0.005660                          0.214470   \n",
       "Count_6-12_months_late           -0.002125                          0.214951   \n",
       "Count_more_than_12_months_late    0.003424                          0.168125   \n",
       "application_underwriting_score   -0.002124                         -0.142670   \n",
       "no_of_premiums_paid              -0.003328                         -0.152837   \n",
       "target                           -0.005064                         -0.240980   \n",
       "\n",
       "                                  age_in_days    Income  \\\n",
       "id                                   0.005184 -0.001798   \n",
       "perc_premium_paid_by_cash_credit    -0.259131 -0.031868   \n",
       "age_in_days                          1.000000  0.029308   \n",
       "Income                               0.029308  1.000000   \n",
       "Count_3-6_months_late               -0.058366 -0.001403   \n",
       "Count_6-12_months_late              -0.072731 -0.017347   \n",
       "Count_more_than_12_months_late      -0.059407 -0.012399   \n",
       "application_underwriting_score       0.049888  0.085746   \n",
       "no_of_premiums_paid                  0.176544  0.079078   \n",
       "target                               0.095103  0.016541   \n",
       "\n",
       "                                  Count_3-6_months_late  \\\n",
       "id                                            -0.005660   \n",
       "perc_premium_paid_by_cash_credit               0.214470   \n",
       "age_in_days                                   -0.058366   \n",
       "Income                                        -0.001403   \n",
       "Count_3-6_months_late                          1.000000   \n",
       "Count_6-12_months_late                         0.204228   \n",
       "Count_more_than_12_months_late                 0.296085   \n",
       "application_underwriting_score                -0.082781   \n",
       "no_of_premiums_paid                            0.075828   \n",
       "target                                        -0.248900   \n",
       "\n",
       "                                  Count_6-12_months_late  \\\n",
       "id                                             -0.002125   \n",
       "perc_premium_paid_by_cash_credit                0.214951   \n",
       "age_in_days                                    -0.072731   \n",
       "Income                                         -0.017347   \n",
       "Count_3-6_months_late                           0.204228   \n",
       "Count_6-12_months_late                          1.000000   \n",
       "Count_more_than_12_months_late                  0.266306   \n",
       "application_underwriting_score                  0.004785   \n",
       "no_of_premiums_paid                            -0.093133   \n",
       "target                                         -0.286159   \n",
       "\n",
       "                                  Count_more_than_12_months_late  \\\n",
       "id                                                      0.003424   \n",
       "perc_premium_paid_by_cash_credit                        0.168125   \n",
       "age_in_days                                            -0.059407   \n",
       "Income                                                 -0.012399   \n",
       "Count_3-6_months_late                                   0.296085   \n",
       "Count_6-12_months_late                                  0.266306   \n",
       "Count_more_than_12_months_late                          1.000000   \n",
       "application_underwriting_score                         -0.031726   \n",
       "no_of_premiums_paid                                    -0.021848   \n",
       "target                                                 -0.240385   \n",
       "\n",
       "                                  application_underwriting_score  \\\n",
       "id                                                     -0.002124   \n",
       "perc_premium_paid_by_cash_credit                       -0.142670   \n",
       "age_in_days                                             0.049888   \n",
       "Income                                                  0.085746   \n",
       "Count_3-6_months_late                                  -0.082781   \n",
       "Count_6-12_months_late                                  0.004785   \n",
       "Count_more_than_12_months_late                         -0.031726   \n",
       "application_underwriting_score                          1.000000   \n",
       "no_of_premiums_paid                                    -0.270864   \n",
       "target                                                  0.068715   \n",
       "\n",
       "                                  no_of_premiums_paid    target  \n",
       "id                                          -0.003328 -0.005064  \n",
       "perc_premium_paid_by_cash_credit            -0.152837 -0.240980  \n",
       "age_in_days                                  0.176544  0.095103  \n",
       "Income                                       0.079078  0.016541  \n",
       "Count_3-6_months_late                        0.075828 -0.248900  \n",
       "Count_6-12_months_late                      -0.093133 -0.286159  \n",
       "Count_more_than_12_months_late              -0.021848 -0.240385  \n",
       "application_underwriting_score              -0.270864  0.068715  \n",
       "no_of_premiums_paid                          1.000000  0.022664  \n",
       "target                                       0.022664  1.000000  "
      ]
     },
     "execution_count": 17,
     "metadata": {},
     "output_type": "execute_result"
    }
   ],
   "source": [
    "# ANALYSING THE CO-RELATION BETWEEN VARIABLES\n",
    "\n",
    "df.corr()"
   ]
  },
  {
   "cell_type": "code",
   "execution_count": 18,
   "metadata": {},
   "outputs": [
    {
     "data": {
      "image/png": "[encoded data removed]",
      "text/plain": [
       "<Figure size 432x288 with 1 Axes>"
      ]
     },
     "metadata": {
      "needs_background": "light"
     },
     "output_type": "display_data"
    }
   ],
   "source": [
    "# ANALYSING THE RELATION BETWEEN AGE_IN_DAYS AND INCOME \n",
    "plt.scatter(df['age_in_days'],df['Income'],color='blue')\n",
    "plt.show()\n",
    "# NO RELATION OUTLIERS ARE PRESENT"
   ]
  },
  {
   "cell_type": "code",
   "execution_count": 19,
   "metadata": {},
   "outputs": [
    {
     "data": {
      "image/png": "[encoded data removed]",
      "text/plain": [
       "<Figure size 432x288 with 1 Axes>"
      ]
     },
     "metadata": {
      "needs_background": "light"
     },
     "output_type": "display_data"
    }
   ],
   "source": [
    "# ANALYSING THE RELATION BETWEEN NO_OF_PREMIUMS_PAID AND INCOME\n",
    "\n",
    "plt.scatter(df['no_of_premiums_paid'],df['Income'],color='green')\n",
    "plt.show()\n",
    "\n",
    "#  NO RELATION , OUTLIERS ARE PRESENT IN INCOME"
   ]
  },
  {
   "cell_type": "code",
   "execution_count": 20,
   "metadata": {},
   "outputs": [
    {
     "data": {
      "image/png": "[encoded data removed]",
      "text/plain": [
       "<Figure size 432x288 with 1 Axes>"
      ]
     },
     "metadata": {
      "needs_background": "light"
     },
     "output_type": "display_data"
    }
   ],
   "source": [
    "# ANALYSING THE RELATION BETWEEN NO_OF_PREMIUMS_PAID AND AGE_IN_DAYS\n",
    "plt.scatter(df['no_of_premiums_paid'],df['age_in_days'],color='red')\n",
    "plt.show()\n",
    "# NO RELATION BETWEEN THEM AGAIN THE OUTLIERS ARE PRESENT IN AGE_IN_DAYS"
   ]
  },
  {
   "cell_type": "markdown",
   "metadata": {},
   "source": [
    "# CATEGORICAL AND CONTINUOUS VARIABLES  ANALYSIS"
   ]
  },
  {
   "cell_type": "code",
   "execution_count": 21,
   "metadata": {},
   "outputs": [
    {
     "data": {
      "image/png": "[encoded data removed]",
      "text/plain": [
       "<Figure size 432x288 with 1 Axes>"
      ]
     },
     "metadata": {
      "needs_background": "light"
     },
     "output_type": "display_data"
    }
   ],
   "source": [
    "# ANALYSING THE MEAN OF INCOME OF DIFFERENT RESIDENCE TYPES\n",
    "\n",
    "df.groupby('residence_area_type')['Income'].mean().plot.bar(color='green')\n",
    "plt.show()\n",
    "\n",
    "# MEAN INCOME FOR URBAN POLICIES ARE HIGHER THAN RURAL"
   ]
  },
  {
   "cell_type": "code",
   "execution_count": 22,
   "metadata": {},
   "outputs": [
    {
     "data": {
      "image/png": "[encoded data removed]",
      "text/plain": [
       "<Figure size 432x288 with 1 Axes>"
      ]
     },
     "metadata": {
      "needs_background": "light"
     },
     "output_type": "display_data"
    }
   ],
   "source": [
    "# ANALYSING THE MEAN OF AGE_IN_DAYS OF DIFFERENT RESIDENCE TYPES\n",
    "\n",
    "df.groupby('residence_area_type')['age_in_days'].mean().plot.bar(color='red')\n",
    "plt.show()\n",
    "\n",
    "# THERE IS NO MUCH DIFFERENCE IN MEAN AGE_IN_DAYS OF DIFFERENT RESIDENCE AREA TYPES\n",
    "\n"
   ]
  },
  {
   "cell_type": "code",
   "execution_count": 23,
   "metadata": {},
   "outputs": [
    {
     "data": {
      "image/png": "[encoded data removed]",
      "text/plain": [
       "<Figure size 432x288 with 1 Axes>"
      ]
     },
     "metadata": {
      "needs_background": "light"
     },
     "output_type": "display_data"
    }
   ],
   "source": [
    "# ANALYSING THE MEAN OF INCOME FROM DIFFERENT SOURCING CHANNELS\n",
    "\n",
    "df.groupby('sourcing_channel')['Income'].mean().plot.bar(color='blue')\n",
    "\n",
    "# MEAN INCOME FOR SOURCING CHANNEL FROM E HAS THE HIGHEST\n",
    "plt.show()\n",
    "\n"
   ]
  },
  {
   "cell_type": "markdown",
   "metadata": {},
   "source": [
    "# CATEGORICAL AND CATEGORICAL BI-VARIATE ANALYSIS"
   ]
  },
  {
   "cell_type": "code",
   "execution_count": 24,
   "metadata": {},
   "outputs": [
    {
     "data": {
      "text/html": [
       "<div>\n",
       "<style scoped>\n",
       "    .dataframe tbody tr th:only-of-type {\n",
       "        vertical-align: middle;\n",
       "    }\n",
       "\n",
       "    .dataframe tbody tr th {\n",
       "        vertical-align: top;\n",
       "    }\n",
       "\n",
       "    .dataframe thead th {\n",
       "        text-align: right;\n",
       "    }\n",
       "</style>\n",
       "<table border=\"1\" class=\"dataframe\">\n",
       "  <thead>\n",
       "    <tr style=\"text-align: right;\">\n",
       "      <th>target</th>\n",
       "      <th>0</th>\n",
       "      <th>1</th>\n",
       "    </tr>\n",
       "    <tr>\n",
       "      <th>sourcing_channel</th>\n",
       "      <th></th>\n",
       "      <th></th>\n",
       "    </tr>\n",
       "  </thead>\n",
       "  <tbody>\n",
       "    <tr>\n",
       "      <td>A</td>\n",
       "      <td>2349</td>\n",
       "      <td>40785</td>\n",
       "    </tr>\n",
       "    <tr>\n",
       "      <td>B</td>\n",
       "      <td>1066</td>\n",
       "      <td>15446</td>\n",
       "    </tr>\n",
       "    <tr>\n",
       "      <td>C</td>\n",
       "      <td>903</td>\n",
       "      <td>11136</td>\n",
       "    </tr>\n",
       "    <tr>\n",
       "      <td>D</td>\n",
       "      <td>634</td>\n",
       "      <td>6925</td>\n",
       "    </tr>\n",
       "    <tr>\n",
       "      <td>E</td>\n",
       "      <td>46</td>\n",
       "      <td>563</td>\n",
       "    </tr>\n",
       "  </tbody>\n",
       "</table>\n",
       "</div>"
      ],
      "text/plain": [
       "target               0      1\n",
       "sourcing_channel             \n",
       "A                 2349  40785\n",
       "B                 1066  15446\n",
       "C                  903  11136\n",
       "D                  634   6925\n",
       "E                   46    563"
      ]
     },
     "execution_count": 24,
     "metadata": {},
     "output_type": "execute_result"
    }
   ],
   "source": [
    "# ANALYSING THE RELATION BETWEEN SOURCING CHANNEL AND TARGET\n",
    "\n",
    "pd.crosstab(df['sourcing_channel'], df[\"target\"])"
   ]
  },
  {
   "cell_type": "code",
   "execution_count": 25,
   "metadata": {},
   "outputs": [
    {
     "data": {
      "text/plain": [
       "(141.43673259821205,\n",
       " 1.390061884429808e-29,\n",
       " 4,\n",
       " array([[2.69975745e+03, 4.04342425e+04],\n",
       "        [1.03348623e+03, 1.54785138e+04],\n",
       "        [7.53521120e+02, 1.12854789e+04],\n",
       "        [4.73117879e+02, 7.08588212e+03],\n",
       "        [3.81173156e+01, 5.70882684e+02]]))"
      ]
     },
     "execution_count": 25,
     "metadata": {},
     "output_type": "execute_result"
    }
   ],
   "source": [
    "# PERFORMING CHISQAURED TEST\n",
    "from scipy.stats import chi2_contingency\n",
    "chi2_contingency(pd.crosstab(df['sourcing_channel'], df['target']))"
   ]
  },
  {
   "cell_type": "code",
   "execution_count": 26,
   "metadata": {},
   "outputs": [
    {
     "data": {
      "text/html": [
       "<div>\n",
       "<style scoped>\n",
       "    .dataframe tbody tr th:only-of-type {\n",
       "        vertical-align: middle;\n",
       "    }\n",
       "\n",
       "    .dataframe tbody tr th {\n",
       "        vertical-align: top;\n",
       "    }\n",
       "\n",
       "    .dataframe thead th {\n",
       "        text-align: right;\n",
       "    }\n",
       "</style>\n",
       "<table border=\"1\" class=\"dataframe\">\n",
       "  <thead>\n",
       "    <tr style=\"text-align: right;\">\n",
       "      <th>target</th>\n",
       "      <th>0</th>\n",
       "      <th>1</th>\n",
       "    </tr>\n",
       "    <tr>\n",
       "      <th>residence_area_type</th>\n",
       "      <th></th>\n",
       "      <th></th>\n",
       "    </tr>\n",
       "  </thead>\n",
       "  <tbody>\n",
       "    <tr>\n",
       "      <td>Rural</td>\n",
       "      <td>1998</td>\n",
       "      <td>29672</td>\n",
       "    </tr>\n",
       "    <tr>\n",
       "      <td>Urban</td>\n",
       "      <td>3000</td>\n",
       "      <td>45183</td>\n",
       "    </tr>\n",
       "  </tbody>\n",
       "</table>\n",
       "</div>"
      ],
      "text/plain": [
       "target                  0      1\n",
       "residence_area_type             \n",
       "Rural                1998  29672\n",
       "Urban                3000  45183"
      ]
     },
     "execution_count": 26,
     "metadata": {},
     "output_type": "execute_result"
    }
   ],
   "source": [
    "# ANALYSING THE RELATION BETWEEN RESIDENCE_AREA_TYPE AND TARGET\n",
    "\n",
    "pd.crosstab(df['residence_area_type'], df[\"target\"])\n",
    "# URBAN HAS MORE IN TERMS OF PREMIUM PAID ONTIME OR PREMIUM NOT PAID ONTIME"
   ]
  },
  {
   "cell_type": "code",
   "execution_count": 27,
   "metadata": {},
   "outputs": [
    {
     "data": {
      "text/plain": [
       "(0.2080863817891421,\n",
       " 0.6482714305747836,\n",
       " 1,\n",
       " array([[ 1982.22558952, 29687.77441048],\n",
       "        [ 3015.77441048, 45167.22558952]]))"
      ]
     },
     "execution_count": 27,
     "metadata": {},
     "output_type": "execute_result"
    }
   ],
   "source": [
    "# PERFORMING CHI-SQAURED TEST\n",
    "from scipy.stats import chi2_contingency\n",
    "chi2_contingency(pd.crosstab(df['residence_area_type'], df['target']))\n",
    "#URBAN HAS MORE WHEN IT IS COMPARED TO RURAL"
   ]
  },
  {
   "cell_type": "markdown",
   "metadata": {},
   "source": [
    "# CHECKING THE OUTLIERS"
   ]
  },
  {
   "cell_type": "code",
   "execution_count": 28,
   "metadata": {},
   "outputs": [
    {
     "data": {
      "image/png": "[encoded data removed]",
      "text/plain": [
       "<Figure size 432x288 with 1 Axes>"
      ]
     },
     "metadata": {
      "needs_background": "light"
     },
     "output_type": "display_data"
    }
   ],
   "source": [
    "df['Income'].plot.box()\n",
    "plt.show()\n",
    "#OUTLIERS ARE PRESENT "
   ]
  },
  {
   "cell_type": "code",
   "execution_count": 29,
   "metadata": {},
   "outputs": [
    {
     "data": {
      "image/png": "[encoded data removed]",
      "text/plain": [
       "<Figure size 432x288 with 1 Axes>"
      ]
     },
     "metadata": {
      "needs_background": "light"
     },
     "output_type": "display_data"
    }
   ],
   "source": [
    "df['age_in_days'].plot.box()\n",
    "plt.show()\n",
    "#OUTLIERS ARE PRESENT"
   ]
  },
  {
   "cell_type": "code",
   "execution_count": 30,
   "metadata": {},
   "outputs": [
    {
     "data": {
      "image/png": "[encoded data removed]",
      "text/plain": [
       "<Figure size 432x288 with 1 Axes>"
      ]
     },
     "metadata": {
      "needs_background": "light"
     },
     "output_type": "display_data"
    }
   ],
   "source": [
    "df['perc_premium_paid_by_cash_credit'].plot.box()\n",
    "plt.show()\n",
    "# NO OUTLIERS"
   ]
  },
  {
   "cell_type": "code",
   "execution_count": 31,
   "metadata": {},
   "outputs": [
    {
     "data": {
      "image/png": "[encoded data removed]",
      "text/plain": [
       "<Figure size 432x288 with 1 Axes>"
      ]
     },
     "metadata": {
      "needs_background": "light"
     },
     "output_type": "display_data"
    }
   ],
   "source": [
    "df['Count_3-6_months_late'].plot.box()\n",
    "plt.show()"
   ]
  },
  {
   "cell_type": "code",
   "execution_count": 32,
   "metadata": {},
   "outputs": [
    {
     "data": {
      "image/png": "[encoded data removed]",
      "text/plain": [
       "<Figure size 432x288 with 1 Axes>"
      ]
     },
     "metadata": {
      "needs_background": "light"
     },
     "output_type": "display_data"
    }
   ],
   "source": [
    "df['Count_6-12_months_late'].plot.box()\n",
    "plt.show()"
   ]
  },
  {
   "cell_type": "code",
   "execution_count": 33,
   "metadata": {},
   "outputs": [
    {
     "data": {
      "image/png": "[encoded data removed]",
      "text/plain": [
       "<Figure size 432x288 with 1 Axes>"
      ]
     },
     "metadata": {
      "needs_background": "light"
     },
     "output_type": "display_data"
    }
   ],
   "source": [
    "df['Count_more_than_12_months_late'].plot.box()\n",
    "plt.show()"
   ]
  },
  {
   "cell_type": "code",
   "execution_count": 34,
   "metadata": {},
   "outputs": [
    {
     "data": {
      "image/png": "[encoded data removed]",
      "text/plain": [
       "<Figure size 432x288 with 1 Axes>"
      ]
     },
     "metadata": {
      "needs_background": "light"
     },
     "output_type": "display_data"
    }
   ],
   "source": [
    "df['application_underwriting_score'].plot.box()\n",
    "plt.show()\n",
    "# THERE ARE OUTLIERS BELOW LOWER WHISKER"
   ]
  },
  {
   "cell_type": "code",
   "execution_count": 35,
   "metadata": {},
   "outputs": [
    {
     "data": {
      "image/png": "[encoded data removed]",
      "text/plain": [
       "<Figure size 432x288 with 1 Axes>"
      ]
     },
     "metadata": {
      "needs_background": "light"
     },
     "output_type": "display_data"
    }
   ],
   "source": [
    "df['no_of_premiums_paid'].plot.box()\n",
    "plt.show()\n",
    "# THERE ARE OUTLIERS ABOVE UPPER WHISKER"
   ]
  },
  {
   "cell_type": "markdown",
   "metadata": {},
   "source": [
    "# TREATMENT FOR THE OUTLIERS"
   ]
  },
  {
   "cell_type": "code",
   "execution_count": 36,
   "metadata": {},
   "outputs": [],
   "source": [
    "# AGE_IN_DAYS WHICH ARE GREATER THAN QUANTILE .81 ARE REMOVED \n",
    "df = df[df['age_in_days']<(df['age_in_days'].quantile(.81))]"
   ]
  },
  {
   "cell_type": "code",
   "execution_count": 37,
   "metadata": {},
   "outputs": [],
   "source": [
    "# PERC_PREMIUM_PAID_BY_CASH_CREDIT GREATER THAN 0.715 ARE REMOVED \n",
    "df = df[df['perc_premium_paid_by_cash_credit']<0.715]"
   ]
  },
  {
   "cell_type": "code",
   "execution_count": 38,
   "metadata": {},
   "outputs": [],
   "source": [
    "# PERC_PREMIUM_PAID_BY_CASH_CREDIT GREATER THAN QUANTILE .30 ARE RETAINED SO THAT THE LOW VALUES WILL BE ALTERED\n",
    "df = df[df['perc_premium_paid_by_cash_credit']>df['perc_premium_paid_by_cash_credit'].quantile(.30)]"
   ]
  },
  {
   "cell_type": "code",
   "execution_count": 39,
   "metadata": {},
   "outputs": [],
   "source": [
    "# REMOVING OUTLIERS FOR APPLICATION_UNDERWRITING_SCORE\n",
    "df=df[df['application_underwriting_score']>95]\n",
    "df = df[df['application_underwriting_score']<df['application_underwriting_score'].quantile(.91)]"
   ]
  },
  {
   "cell_type": "code",
   "execution_count": 40,
   "metadata": {},
   "outputs": [
    {
     "data": {
      "text/plain": [
       "(32385, 12)"
      ]
     },
     "execution_count": 40,
     "metadata": {},
     "output_type": "execute_result"
    }
   ],
   "source": [
    "df.head()\n",
    "df.shape\n"
   ]
  },
  {
   "cell_type": "code",
   "execution_count": 41,
   "metadata": {},
   "outputs": [
    {
     "data": {
      "text/html": [
       "<div>\n",
       "<style scoped>\n",
       "    .dataframe tbody tr th:only-of-type {\n",
       "        vertical-align: middle;\n",
       "    }\n",
       "\n",
       "    .dataframe tbody tr th {\n",
       "        vertical-align: top;\n",
       "    }\n",
       "\n",
       "    .dataframe thead th {\n",
       "        text-align: right;\n",
       "    }\n",
       "</style>\n",
       "<table border=\"1\" class=\"dataframe\">\n",
       "  <thead>\n",
       "    <tr style=\"text-align: right;\">\n",
       "      <th></th>\n",
       "      <th>id</th>\n",
       "      <th>perc_premium_paid_by_cash_credit</th>\n",
       "      <th>age_in_days</th>\n",
       "      <th>Income</th>\n",
       "      <th>Count_3-6_months_late</th>\n",
       "      <th>Count_6-12_months_late</th>\n",
       "      <th>Count_more_than_12_months_late</th>\n",
       "      <th>application_underwriting_score</th>\n",
       "      <th>no_of_premiums_paid</th>\n",
       "      <th>sourcing_channel</th>\n",
       "      <th>residence_area_type</th>\n",
       "      <th>target</th>\n",
       "    </tr>\n",
       "  </thead>\n",
       "  <tbody>\n",
       "    <tr>\n",
       "      <td>0</td>\n",
       "      <td>110936</td>\n",
       "      <td>0.429</td>\n",
       "      <td>12058</td>\n",
       "      <td>355060</td>\n",
       "      <td>0.0</td>\n",
       "      <td>0.0</td>\n",
       "      <td>0.0</td>\n",
       "      <td>99.02</td>\n",
       "      <td>13</td>\n",
       "      <td>C</td>\n",
       "      <td>Urban</td>\n",
       "      <td>1</td>\n",
       "    </tr>\n",
       "    <tr>\n",
       "      <td>3</td>\n",
       "      <td>19415</td>\n",
       "      <td>0.049</td>\n",
       "      <td>15341</td>\n",
       "      <td>250510</td>\n",
       "      <td>0.0</td>\n",
       "      <td>0.0</td>\n",
       "      <td>0.0</td>\n",
       "      <td>99.57</td>\n",
       "      <td>9</td>\n",
       "      <td>A</td>\n",
       "      <td>Urban</td>\n",
       "      <td>1</td>\n",
       "    </tr>\n",
       "    <tr>\n",
       "      <td>5</td>\n",
       "      <td>59951</td>\n",
       "      <td>0.540</td>\n",
       "      <td>17527</td>\n",
       "      <td>282080</td>\n",
       "      <td>2.0</td>\n",
       "      <td>0.0</td>\n",
       "      <td>0.0</td>\n",
       "      <td>99.18</td>\n",
       "      <td>9</td>\n",
       "      <td>B</td>\n",
       "      <td>Rural</td>\n",
       "      <td>1</td>\n",
       "    </tr>\n",
       "    <tr>\n",
       "      <td>8</td>\n",
       "      <td>93730</td>\n",
       "      <td>0.621</td>\n",
       "      <td>9868</td>\n",
       "      <td>92520</td>\n",
       "      <td>0.0</td>\n",
       "      <td>0.0</td>\n",
       "      <td>0.0</td>\n",
       "      <td>99.58</td>\n",
       "      <td>4</td>\n",
       "      <td>A</td>\n",
       "      <td>Urban</td>\n",
       "      <td>1</td>\n",
       "    </tr>\n",
       "    <tr>\n",
       "      <td>10</td>\n",
       "      <td>87400</td>\n",
       "      <td>0.051</td>\n",
       "      <td>17529</td>\n",
       "      <td>200100</td>\n",
       "      <td>1.0</td>\n",
       "      <td>0.0</td>\n",
       "      <td>0.0</td>\n",
       "      <td>98.66</td>\n",
       "      <td>22</td>\n",
       "      <td>C</td>\n",
       "      <td>Rural</td>\n",
       "      <td>1</td>\n",
       "    </tr>\n",
       "  </tbody>\n",
       "</table>\n",
       "</div>"
      ],
      "text/plain": [
       "        id  perc_premium_paid_by_cash_credit  age_in_days  Income  \\\n",
       "0   110936                             0.429        12058  355060   \n",
       "3    19415                             0.049        15341  250510   \n",
       "5    59951                             0.540        17527  282080   \n",
       "8    93730                             0.621         9868   92520   \n",
       "10   87400                             0.051        17529  200100   \n",
       "\n",
       "    Count_3-6_months_late  Count_6-12_months_late  \\\n",
       "0                     0.0                     0.0   \n",
       "3                     0.0                     0.0   \n",
       "5                     2.0                     0.0   \n",
       "8                     0.0                     0.0   \n",
       "10                    1.0                     0.0   \n",
       "\n",
       "    Count_more_than_12_months_late  application_underwriting_score  \\\n",
       "0                              0.0                           99.02   \n",
       "3                              0.0                           99.57   \n",
       "5                              0.0                           99.18   \n",
       "8                              0.0                           99.58   \n",
       "10                             0.0                           98.66   \n",
       "\n",
       "    no_of_premiums_paid sourcing_channel residence_area_type  target  \n",
       "0                    13                C               Urban       1  \n",
       "3                     9                A               Urban       1  \n",
       "5                     9                B               Rural       1  \n",
       "8                     4                A               Urban       1  \n",
       "10                   22                C               Rural       1  "
      ]
     },
     "execution_count": 41,
     "metadata": {},
     "output_type": "execute_result"
    }
   ],
   "source": [
    "df.head()"
   ]
  },
  {
   "cell_type": "code",
   "execution_count": 42,
   "metadata": {},
   "outputs": [],
   "source": [
    "# REMOVING THE SOURCING_CHANNEL,RESIDENCE_AREA_TYPE AND ID\n",
    "\n",
    "df=df.drop(columns=['sourcing_channel','residence_area_type','id'])\n"
   ]
  },
  {
   "cell_type": "code",
   "execution_count": 43,
   "metadata": {},
   "outputs": [
    {
     "data": {
      "text/plain": [
       "(32385, 9)"
      ]
     },
     "execution_count": 43,
     "metadata": {},
     "output_type": "execute_result"
    }
   ],
   "source": [
    "df.shape"
   ]
  },
  {
   "cell_type": "markdown",
   "metadata": {},
   "source": [
    "# MISSING VALUE IMPUTATION IN THE DATASET"
   ]
  },
  {
   "cell_type": "code",
   "execution_count": 44,
   "metadata": {},
   "outputs": [],
   "source": [
    "#IMPUTING MISSING VALUES OF COUNT_3-6_MONTHS_LATE\n",
    "df['Count_3-6_months_late'].fillna(df['Count_3-6_months_late'].std(ddof=0)/.4+df['Count_3-6_months_late'].min()/.2,inplace = True)"
   ]
  },
  {
   "cell_type": "code",
   "execution_count": 45,
   "metadata": {},
   "outputs": [],
   "source": [
    "# IMPUTING MISSING VALUES OF COUNT_6-12_MONTHS_LATE\n",
    "# IMPUTING MISSING VALUES OF COUNT_MORE_THAN_12_MONTHS_LATE\n",
    "# STD GIVES US THE SPREAD OF DATA SO WE HAVE DIVIDED THAT BY ITS MINIMUM VALUE , SO THAT THE VALUE WILL BE INTACT AND OUTLIERS\n",
    "# ARE REDUCED\n",
    "\n",
    "df['Count_6-12_months_late'].fillna(df['Count_6-12_months_late'].std(ddof=0)/.4+df['Count_6-12_months_late'].min()/.2,inplace = True)\n",
    "df['Count_more_than_12_months_late'].fillna((np.std(df['Count_more_than_12_months_late'])/.4+df['Count_more_than_12_months_late'].min()/.2),inplace = True)"
   ]
  },
  {
   "cell_type": "code",
   "execution_count": 46,
   "metadata": {},
   "outputs": [],
   "source": [
    "#IMPUTING THE MISSING VALUES OF 'application_underwriting_score'\n",
    "# CREATING A NEW VARIABLE CALLED 'simplified_underwriting_score' BY SUBTRACTING 90 FROM 'application_underwriting_score'\n",
    "# BY CREATING A NEW VARIABLE WE CAN GET GOOD PERFORMACE FROM THE MODEL.\n",
    "\n",
    "\n",
    "df['application_underwriting_score'].fillna(df['application_underwriting_score'].quantile(.0302),inplace = True)\n",
    "df['simplified_underwriting_score'] = df['application_underwriting_score'] - 90"
   ]
  },
  {
   "cell_type": "code",
   "execution_count": 47,
   "metadata": {},
   "outputs": [
    {
     "data": {
      "text/plain": [
       "perc_premium_paid_by_cash_credit    0\n",
       "age_in_days                         0\n",
       "Income                              0\n",
       "Count_3-6_months_late               0\n",
       "Count_6-12_months_late              0\n",
       "Count_more_than_12_months_late      0\n",
       "application_underwriting_score      0\n",
       "no_of_premiums_paid                 0\n",
       "target                              0\n",
       "simplified_underwriting_score       0\n",
       "dtype: int64"
      ]
     },
     "execution_count": 47,
     "metadata": {},
     "output_type": "execute_result"
    }
   ],
   "source": [
    "# CHECKING IF THERE IS ANY MISSING VALUES AFTER IMPUTATION\n",
    "df.isnull().sum()"
   ]
  },
  {
   "cell_type": "code",
   "execution_count": 48,
   "metadata": {},
   "outputs": [
    {
     "data": {
      "text/plain": [
       "(32385, 10)"
      ]
     },
     "execution_count": 48,
     "metadata": {},
     "output_type": "execute_result"
    }
   ],
   "source": [
    "df.shape"
   ]
  },
  {
   "cell_type": "code",
   "execution_count": 49,
   "metadata": {},
   "outputs": [
    {
     "data": {
      "text/html": [
       "<div>\n",
       "<style scoped>\n",
       "    .dataframe tbody tr th:only-of-type {\n",
       "        vertical-align: middle;\n",
       "    }\n",
       "\n",
       "    .dataframe tbody tr th {\n",
       "        vertical-align: top;\n",
       "    }\n",
       "\n",
       "    .dataframe thead th {\n",
       "        text-align: right;\n",
       "    }\n",
       "</style>\n",
       "<table border=\"1\" class=\"dataframe\">\n",
       "  <thead>\n",
       "    <tr style=\"text-align: right;\">\n",
       "      <th></th>\n",
       "      <th>perc_premium_paid_by_cash_credit</th>\n",
       "      <th>age_in_days</th>\n",
       "      <th>Income</th>\n",
       "      <th>Count_3-6_months_late</th>\n",
       "      <th>Count_6-12_months_late</th>\n",
       "      <th>Count_more_than_12_months_late</th>\n",
       "      <th>application_underwriting_score</th>\n",
       "      <th>no_of_premiums_paid</th>\n",
       "      <th>target</th>\n",
       "      <th>simplified_underwriting_score</th>\n",
       "    </tr>\n",
       "  </thead>\n",
       "  <tbody>\n",
       "    <tr>\n",
       "      <td>0</td>\n",
       "      <td>0.429</td>\n",
       "      <td>12058</td>\n",
       "      <td>355060</td>\n",
       "      <td>0.0</td>\n",
       "      <td>0.0</td>\n",
       "      <td>0.0</td>\n",
       "      <td>99.02</td>\n",
       "      <td>13</td>\n",
       "      <td>1</td>\n",
       "      <td>9.02</td>\n",
       "    </tr>\n",
       "    <tr>\n",
       "      <td>3</td>\n",
       "      <td>0.049</td>\n",
       "      <td>15341</td>\n",
       "      <td>250510</td>\n",
       "      <td>0.0</td>\n",
       "      <td>0.0</td>\n",
       "      <td>0.0</td>\n",
       "      <td>99.57</td>\n",
       "      <td>9</td>\n",
       "      <td>1</td>\n",
       "      <td>9.57</td>\n",
       "    </tr>\n",
       "    <tr>\n",
       "      <td>5</td>\n",
       "      <td>0.540</td>\n",
       "      <td>17527</td>\n",
       "      <td>282080</td>\n",
       "      <td>2.0</td>\n",
       "      <td>0.0</td>\n",
       "      <td>0.0</td>\n",
       "      <td>99.18</td>\n",
       "      <td>9</td>\n",
       "      <td>1</td>\n",
       "      <td>9.18</td>\n",
       "    </tr>\n",
       "    <tr>\n",
       "      <td>8</td>\n",
       "      <td>0.621</td>\n",
       "      <td>9868</td>\n",
       "      <td>92520</td>\n",
       "      <td>0.0</td>\n",
       "      <td>0.0</td>\n",
       "      <td>0.0</td>\n",
       "      <td>99.58</td>\n",
       "      <td>4</td>\n",
       "      <td>1</td>\n",
       "      <td>9.58</td>\n",
       "    </tr>\n",
       "    <tr>\n",
       "      <td>10</td>\n",
       "      <td>0.051</td>\n",
       "      <td>17529</td>\n",
       "      <td>200100</td>\n",
       "      <td>1.0</td>\n",
       "      <td>0.0</td>\n",
       "      <td>0.0</td>\n",
       "      <td>98.66</td>\n",
       "      <td>22</td>\n",
       "      <td>1</td>\n",
       "      <td>8.66</td>\n",
       "    </tr>\n",
       "  </tbody>\n",
       "</table>\n",
       "</div>"
      ],
      "text/plain": [
       "    perc_premium_paid_by_cash_credit  age_in_days  Income  \\\n",
       "0                              0.429        12058  355060   \n",
       "3                              0.049        15341  250510   \n",
       "5                              0.540        17527  282080   \n",
       "8                              0.621         9868   92520   \n",
       "10                             0.051        17529  200100   \n",
       "\n",
       "    Count_3-6_months_late  Count_6-12_months_late  \\\n",
       "0                     0.0                     0.0   \n",
       "3                     0.0                     0.0   \n",
       "5                     2.0                     0.0   \n",
       "8                     0.0                     0.0   \n",
       "10                    1.0                     0.0   \n",
       "\n",
       "    Count_more_than_12_months_late  application_underwriting_score  \\\n",
       "0                              0.0                           99.02   \n",
       "3                              0.0                           99.57   \n",
       "5                              0.0                           99.18   \n",
       "8                              0.0                           99.58   \n",
       "10                             0.0                           98.66   \n",
       "\n",
       "    no_of_premiums_paid  target  simplified_underwriting_score  \n",
       "0                    13       1                           9.02  \n",
       "3                     9       1                           9.57  \n",
       "5                     9       1                           9.18  \n",
       "8                     4       1                           9.58  \n",
       "10                   22       1                           8.66  "
      ]
     },
     "execution_count": 49,
     "metadata": {},
     "output_type": "execute_result"
    }
   ],
   "source": [
    "df.head()"
   ]
  },
  {
   "cell_type": "markdown",
   "metadata": {},
   "source": [
    "# AS ALL THE OUTLIERS AND MISSING VALUES ARE REMOVED LET US REFORM THE DATA TO INCREASE THE PERFORMANCE"
   ]
  },
  {
   "cell_type": "code",
   "execution_count": 50,
   "metadata": {},
   "outputs": [],
   "source": [
    "# GREATER THAN 97 ARE RETAINED\n",
    "df = df[df['application_underwriting_score']>97]\n",
    "df = df[df['application_underwriting_score']<df['application_underwriting_score'].quantile(.9315)]"
   ]
  },
  {
   "cell_type": "code",
   "execution_count": 51,
   "metadata": {},
   "outputs": [],
   "source": [
    "# NO_OF_PREMIUMS_PAID LESS THAN 50.95 ARE RETAINED\n",
    "df = df[df['no_of_premiums_paid']<50.95]\n",
    "df = df[df['age_in_days']<df['age_in_days'].quantile(1.00)]"
   ]
  },
  {
   "cell_type": "code",
   "execution_count": 52,
   "metadata": {},
   "outputs": [],
   "source": [
    "\n",
    "df = df[df['Count_3-6_months_late']<7]\n",
    "df = df[df['Count_6-12_months_late']<9]\n",
    "df= df[df['Count_more_than_12_months_late']<4.5]"
   ]
  },
  {
   "cell_type": "code",
   "execution_count": 53,
   "metadata": {},
   "outputs": [],
   "source": [
    "df = df[df['no_of_premiums_paid']>df['no_of_premiums_paid'].quantile(.1)]\n",
    "df = df[df['age_in_days']>df['age_in_days'].quantile(.155)]\n",
    "df = df[df['Count_more_than_12_months_late']<2]\n",
    "df = df[df['no_of_premiums_paid']<33]"
   ]
  },
  {
   "cell_type": "code",
   "execution_count": 54,
   "metadata": {},
   "outputs": [],
   "source": [
    "df = df[df['Income']>0.15]\n"
   ]
  },
  {
   "cell_type": "code",
   "execution_count": 55,
   "metadata": {},
   "outputs": [],
   "source": [
    "# NOW LET US REDUCE BIG DIGIT NUMERS OF INCOME AND AGE_IN_DAYS TO SMALL DIGIT NUMBERS BY TAKING 1/4th AS THE POWER\n",
    "df['Income']=np.power(df['Income'],1/4)\n",
    "df['age_in_days']=np.power(df['age_in_days'],1/4)\n"
   ]
  },
  {
   "cell_type": "code",
   "execution_count": 57,
   "metadata": {},
   "outputs": [
    {
     "data": {
      "text/html": [
       "<div>\n",
       "<style scoped>\n",
       "    .dataframe tbody tr th:only-of-type {\n",
       "        vertical-align: middle;\n",
       "    }\n",
       "\n",
       "    .dataframe tbody tr th {\n",
       "        vertical-align: top;\n",
       "    }\n",
       "\n",
       "    .dataframe thead th {\n",
       "        text-align: right;\n",
       "    }\n",
       "</style>\n",
       "<table border=\"1\" class=\"dataframe\">\n",
       "  <thead>\n",
       "    <tr style=\"text-align: right;\">\n",
       "      <th></th>\n",
       "      <th>perc_premium_paid_by_cash_credit</th>\n",
       "      <th>age_in_days</th>\n",
       "      <th>Income</th>\n",
       "      <th>Count_3-6_months_late</th>\n",
       "      <th>Count_6-12_months_late</th>\n",
       "      <th>Count_more_than_12_months_late</th>\n",
       "      <th>application_underwriting_score</th>\n",
       "      <th>no_of_premiums_paid</th>\n",
       "      <th>target</th>\n",
       "      <th>simplified_underwriting_score</th>\n",
       "    </tr>\n",
       "  </thead>\n",
       "  <tbody>\n",
       "    <tr>\n",
       "      <td>3</td>\n",
       "      <td>0.049</td>\n",
       "      <td>11.129186</td>\n",
       "      <td>22.372075</td>\n",
       "      <td>0.0</td>\n",
       "      <td>0.0</td>\n",
       "      <td>0.0</td>\n",
       "      <td>99.57</td>\n",
       "      <td>9</td>\n",
       "      <td>1</td>\n",
       "      <td>9.57</td>\n",
       "    </tr>\n",
       "    <tr>\n",
       "      <td>5</td>\n",
       "      <td>0.540</td>\n",
       "      <td>11.506067</td>\n",
       "      <td>23.045868</td>\n",
       "      <td>2.0</td>\n",
       "      <td>0.0</td>\n",
       "      <td>0.0</td>\n",
       "      <td>99.18</td>\n",
       "      <td>9</td>\n",
       "      <td>1</td>\n",
       "      <td>9.18</td>\n",
       "    </tr>\n",
       "    <tr>\n",
       "      <td>10</td>\n",
       "      <td>0.051</td>\n",
       "      <td>11.506395</td>\n",
       "      <td>21.150068</td>\n",
       "      <td>1.0</td>\n",
       "      <td>0.0</td>\n",
       "      <td>0.0</td>\n",
       "      <td>98.66</td>\n",
       "      <td>22</td>\n",
       "      <td>1</td>\n",
       "      <td>8.66</td>\n",
       "    </tr>\n",
       "    <tr>\n",
       "      <td>13</td>\n",
       "      <td>0.111</td>\n",
       "      <td>11.850679</td>\n",
       "      <td>19.203692</td>\n",
       "      <td>0.0</td>\n",
       "      <td>0.0</td>\n",
       "      <td>0.0</td>\n",
       "      <td>99.59</td>\n",
       "      <td>9</td>\n",
       "      <td>1</td>\n",
       "      <td>9.59</td>\n",
       "    </tr>\n",
       "    <tr>\n",
       "      <td>17</td>\n",
       "      <td>0.125</td>\n",
       "      <td>12.266321</td>\n",
       "      <td>23.692754</td>\n",
       "      <td>0.0</td>\n",
       "      <td>0.0</td>\n",
       "      <td>0.0</td>\n",
       "      <td>99.31</td>\n",
       "      <td>14</td>\n",
       "      <td>1</td>\n",
       "      <td>9.31</td>\n",
       "    </tr>\n",
       "    <tr>\n",
       "      <td>...</td>\n",
       "      <td>...</td>\n",
       "      <td>...</td>\n",
       "      <td>...</td>\n",
       "      <td>...</td>\n",
       "      <td>...</td>\n",
       "      <td>...</td>\n",
       "      <td>...</td>\n",
       "      <td>...</td>\n",
       "      <td>...</td>\n",
       "      <td>...</td>\n",
       "    </tr>\n",
       "    <tr>\n",
       "      <td>79842</td>\n",
       "      <td>0.310</td>\n",
       "      <td>11.321641</td>\n",
       "      <td>24.543403</td>\n",
       "      <td>0.0</td>\n",
       "      <td>0.0</td>\n",
       "      <td>0.0</td>\n",
       "      <td>99.16</td>\n",
       "      <td>15</td>\n",
       "      <td>1</td>\n",
       "      <td>9.16</td>\n",
       "    </tr>\n",
       "    <tr>\n",
       "      <td>79846</td>\n",
       "      <td>0.118</td>\n",
       "      <td>12.216715</td>\n",
       "      <td>21.015882</td>\n",
       "      <td>0.0</td>\n",
       "      <td>0.0</td>\n",
       "      <td>0.0</td>\n",
       "      <td>99.25</td>\n",
       "      <td>11</td>\n",
       "      <td>1</td>\n",
       "      <td>9.25</td>\n",
       "    </tr>\n",
       "    <tr>\n",
       "      <td>79848</td>\n",
       "      <td>0.425</td>\n",
       "      <td>12.363765</td>\n",
       "      <td>21.768488</td>\n",
       "      <td>1.0</td>\n",
       "      <td>0.0</td>\n",
       "      <td>0.0</td>\n",
       "      <td>98.70</td>\n",
       "      <td>19</td>\n",
       "      <td>1</td>\n",
       "      <td>8.70</td>\n",
       "    </tr>\n",
       "    <tr>\n",
       "      <td>79849</td>\n",
       "      <td>0.704</td>\n",
       "      <td>11.795162</td>\n",
       "      <td>22.985789</td>\n",
       "      <td>1.0</td>\n",
       "      <td>0.0</td>\n",
       "      <td>1.0</td>\n",
       "      <td>99.42</td>\n",
       "      <td>12</td>\n",
       "      <td>1</td>\n",
       "      <td>9.42</td>\n",
       "    </tr>\n",
       "    <tr>\n",
       "      <td>79851</td>\n",
       "      <td>0.398</td>\n",
       "      <td>12.266591</td>\n",
       "      <td>14.082540</td>\n",
       "      <td>0.0</td>\n",
       "      <td>0.0</td>\n",
       "      <td>0.0</td>\n",
       "      <td>98.68</td>\n",
       "      <td>8</td>\n",
       "      <td>1</td>\n",
       "      <td>8.68</td>\n",
       "    </tr>\n",
       "  </tbody>\n",
       "</table>\n",
       "<p>21031 rows × 10 columns</p>\n",
       "</div>"
      ],
      "text/plain": [
       "       perc_premium_paid_by_cash_credit  age_in_days     Income  \\\n",
       "3                                 0.049    11.129186  22.372075   \n",
       "5                                 0.540    11.506067  23.045868   \n",
       "10                                0.051    11.506395  21.150068   \n",
       "13                                0.111    11.850679  19.203692   \n",
       "17                                0.125    12.266321  23.692754   \n",
       "...                                 ...          ...        ...   \n",
       "79842                             0.310    11.321641  24.543403   \n",
       "79846                             0.118    12.216715  21.015882   \n",
       "79848                             0.425    12.363765  21.768488   \n",
       "79849                             0.704    11.795162  22.985789   \n",
       "79851                             0.398    12.266591  14.082540   \n",
       "\n",
       "       Count_3-6_months_late  Count_6-12_months_late  \\\n",
       "3                        0.0                     0.0   \n",
       "5                        2.0                     0.0   \n",
       "10                       1.0                     0.0   \n",
       "13                       0.0                     0.0   \n",
       "17                       0.0                     0.0   \n",
       "...                      ...                     ...   \n",
       "79842                    0.0                     0.0   \n",
       "79846                    0.0                     0.0   \n",
       "79848                    1.0                     0.0   \n",
       "79849                    1.0                     0.0   \n",
       "79851                    0.0                     0.0   \n",
       "\n",
       "       Count_more_than_12_months_late  application_underwriting_score  \\\n",
       "3                                 0.0                           99.57   \n",
       "5                                 0.0                           99.18   \n",
       "10                                0.0                           98.66   \n",
       "13                                0.0                           99.59   \n",
       "17                                0.0                           99.31   \n",
       "...                               ...                             ...   \n",
       "79842                             0.0                           99.16   \n",
       "79846                             0.0                           99.25   \n",
       "79848                             0.0                           98.70   \n",
       "79849                             1.0                           99.42   \n",
       "79851                             0.0                           98.68   \n",
       "\n",
       "       no_of_premiums_paid  target  simplified_underwriting_score  \n",
       "3                        9       1                           9.57  \n",
       "5                        9       1                           9.18  \n",
       "10                      22       1                           8.66  \n",
       "13                       9       1                           9.59  \n",
       "17                      14       1                           9.31  \n",
       "...                    ...     ...                            ...  \n",
       "79842                   15       1                           9.16  \n",
       "79846                   11       1                           9.25  \n",
       "79848                   19       1                           8.70  \n",
       "79849                   12       1                           9.42  \n",
       "79851                    8       1                           8.68  \n",
       "\n",
       "[21031 rows x 10 columns]"
      ]
     },
     "execution_count": 57,
     "metadata": {},
     "output_type": "execute_result"
    }
   ],
   "source": [
    "df.head()\n",
    "df"
   ]
  },
  {
   "cell_type": "code",
   "execution_count": 57,
   "metadata": {},
   "outputs": [
    {
     "data": {
      "text/plain": [
       "(21031, 10)"
      ]
     },
     "execution_count": 57,
     "metadata": {},
     "output_type": "execute_result"
    }
   ],
   "source": [
    "df.shape"
   ]
  },
  {
   "cell_type": "markdown",
   "metadata": {},
   "source": [
    "# NOW LET US DO FOR THE TEST DATA SAME PROCESS WHAT WE DID FOR THE TRAIN DATA"
   ]
  },
  {
   "cell_type": "code",
   "execution_count": 58,
   "metadata": {},
   "outputs": [],
   "source": [
    "df1=pd.read_csv('test.csv')"
   ]
  },
  {
   "cell_type": "code",
   "execution_count": null,
   "metadata": {},
   "outputs": [],
   "source": [
    "df1.head()"
   ]
  },
  {
   "cell_type": "code",
   "execution_count": null,
   "metadata": {},
   "outputs": [],
   "source": [
    "df1.shape"
   ]
  },
  {
   "cell_type": "code",
   "execution_count": null,
   "metadata": {},
   "outputs": [],
   "source": [
    "# PERFORMING  THE SAME THING WHAT WE DID FOR THE TRAINING SET\n",
    "\n",
    "df1['Count_3-6_months_late'].fillna(df['Count_3-6_months_late'].std(ddof=0)/.4+df['Count_3-6_months_late'].min()/.2,inplace = True)\n",
    "df1['Count_6-12_months_late'].fillna(df['Count_6-12_months_late'].std(ddof=0)/.4+df['Count_6-12_months_late'].min()/.2,inplace = True)\n",
    "df1['Count_more_than_12_months_late'].fillna(df['Count_more_than_12_months_late'].std(ddof=0)/.4+df['Count_more_than_12_months_late'].min()/.2,inplace = True)\n",
    "df1['application_underwriting_score'].fillna(df['application_underwriting_score'].quantile(.0302),inplace = True)\n",
    "df1['simplified_underwriting_score'] = df1['application_underwriting_score'] - 90"
   ]
  },
  {
   "cell_type": "code",
   "execution_count": null,
   "metadata": {},
   "outputs": [],
   "source": [
    "df1.head()"
   ]
  },
  {
   "cell_type": "code",
   "execution_count": null,
   "metadata": {},
   "outputs": [],
   "source": [
    "#DROPPING THE SOURCING CHANNEL AND RESIDENCE_AREA_TYPE COLUMNSt\n",
    "\n",
    "df1=df1.drop(columns=['sourcing_channel','residence_area_type'])"
   ]
  },
  {
   "cell_type": "code",
   "execution_count": null,
   "metadata": {},
   "outputs": [],
   "source": [
    "idss = pd.DataFrame(df1['id'])\n",
    "df1 = df1.drop('id',1)"
   ]
  },
  {
   "cell_type": "code",
   "execution_count": null,
   "metadata": {},
   "outputs": [],
   "source": [
    "# MAKING DUMMY VARIABLES FOR TRAININ AND TESTING DATA\n",
    "# NOW LET US REDUCE BIG DIGIT NUMERS OF INCOME AND AGE_IN_DAYS TO SMALL DIGIT NUMBERS BY TAKING 1/4th AS THE POWER FOR TEST DATA\n",
    "df1['Income']=np.power(df1['Income'],1/4)\n",
    "df1['age_in_days']=np.power(df1['age_in_days'],1/4)\n",
    "train = pd.get_dummies(df)\n",
    "test = pd.get_dummies(df1)\n",
    "\n"
   ]
  },
  {
   "cell_type": "code",
   "execution_count": null,
   "metadata": {},
   "outputs": [],
   "source": [
    "train.head()"
   ]
  },
  {
   "cell_type": "code",
   "execution_count": null,
   "metadata": {},
   "outputs": [],
   "source": [
    "test.head()"
   ]
  },
  {
   "cell_type": "code",
   "execution_count": null,
   "metadata": {},
   "outputs": [],
   "source": [
    "#SPLITTING THE TRAIN DATA INTO DEPENDENT AND INDEPENDENT VARAIBLE'\n",
    "\n",
    "x_train = train.drop('target',1)\n",
    "y_train = train['target']"
   ]
  },
  {
   "cell_type": "code",
   "execution_count": null,
   "metadata": {},
   "outputs": [],
   "source": [
    "x_train"
   ]
  },
  {
   "cell_type": "code",
   "execution_count": null,
   "metadata": {},
   "outputs": [],
   "source": [
    "y_train"
   ]
  },
  {
   "cell_type": "markdown",
   "metadata": {},
   "source": [
    "# IMPORTING LINEAR REGRESSION FROM SCIKIT LEARN AND TRAINING TO PREDICT ."
   ]
  },
  {
   "cell_type": "code",
   "execution_count": null,
   "metadata": {},
   "outputs": [],
   "source": [
    "from sklearn.linear_model import LogisticRegression"
   ]
  },
  {
   "cell_type": "code",
   "execution_count": null,
   "metadata": {},
   "outputs": [],
   "source": [
    "reg=LogisticRegression()"
   ]
  },
  {
   "cell_type": "markdown",
   "metadata": {},
   "source": [
    "# ASSIGNING LINEAR REGRESSION FOR reg"
   ]
  },
  {
   "cell_type": "code",
   "execution_count": null,
   "metadata": {},
   "outputs": [],
   "source": [
    "# FITTING THE DATA\n",
    "reg.fit(x_train,y_train)"
   ]
  },
  {
   "cell_type": "code",
   "execution_count": null,
   "metadata": {},
   "outputs": [],
   "source": [
    "pred = reg.predict(test)"
   ]
  },
  {
   "cell_type": "code",
   "execution_count": null,
   "metadata": {},
   "outputs": [],
   "source": [
    "predicitions = pd.DataFrame(pred)"
   ]
  },
  {
   "cell_type": "code",
   "execution_count": null,
   "metadata": {},
   "outputs": [],
   "source": [
    "# CHECKING FIRST 5 ROWS\n",
    "predicitions.head()\n",
    "\n",
    "pred_logreg=reg.predict_proba(test)"
   ]
  },
  {
   "cell_type": "code",
   "execution_count": null,
   "metadata": {},
   "outputs": [],
   "source": [
    "idss['target']=pred_logreg[:,-1]"
   ]
  },
  {
   "cell_type": "code",
   "execution_count": null,
   "metadata": {},
   "outputs": [],
   "source": []
  },
  {
   "cell_type": "code",
   "execution_count": null,
   "metadata": {},
   "outputs": [],
   "source": [
    "idss.head()"
   ]
  },
  {
   "cell_type": "markdown",
   "metadata": {},
   "source": [
    "# CONVERTING THE DATA TO .CSV FILE BY REMOVING THE INDEXING"
   ]
  },
  {
   "cell_type": "code",
   "execution_count": null,
   "metadata": {},
   "outputs": [],
   "source": [
    "idss.to_csv('Final_data_science069.csv',index = False)"
   ]
  },
  {
   "cell_type": "markdown",
   "metadata": {},
   "source": [
    "# THANK YOU"
   ]
  }
 ],
 "metadata": {
  "kernelspec": {
   "display_name": "Python 3",
   "language": "python",
   "name": "python3"
  },
  "language_info": {
   "codemirror_mode": {
    "name": "ipython",
    "version": 3
   },
   "file_extension": ".py",
   "mimetype": "text/x-python",
   "name": "python",
   "nbconvert_exporter": "python",
   "pygments_lexer": "ipython3",
   "version": "3.7.4"
  }
 },
 "nbformat": 4,
 "nbformat_minor": 2
}
